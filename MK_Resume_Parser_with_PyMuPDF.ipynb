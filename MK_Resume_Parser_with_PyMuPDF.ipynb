{
  "nbformat": 4,
  "nbformat_minor": 0,
  "metadata": {
    "colab": {
      "provenance": [],
      "include_colab_link": true
    },
    "kernelspec": {
      "name": "python3",
      "display_name": "Python 3"
    },
    "language_info": {
      "name": "python"
    }
  },
  "cells": [
    {
      "cell_type": "markdown",
      "metadata": {
        "id": "view-in-github",
        "colab_type": "text"
      },
      "source": [
        "<a href=\"https://colab.research.google.com/github/murathan9165/resume-parser-extern/blob/main/MK_Resume_Parser_with_PyMuPDF.ipynb\" target=\"_parent\"><img src=\"https://colab.research.google.com/assets/colab-badge.svg\" alt=\"Open In Colab\"/></a>"
      ]
    },
    {
      "cell_type": "markdown",
      "source": [
        "# Resume Parser with PyMuPDF"
      ],
      "metadata": {
        "id": "w36z5V9cwVHo"
      }
    },
    {
      "cell_type": "markdown",
      "source": [
        "## Step 1: Setup Environment"
      ],
      "metadata": {
        "id": "9EdEldvSwRyp"
      }
    },
    {
      "cell_type": "code",
      "execution_count": null,
      "metadata": {
        "id": "fNJS-hpZpfjd"
      },
      "outputs": [],
      "source": [
        "!pip install pymupdf"
      ]
    },
    {
      "cell_type": "markdown",
      "source": [
        "Upload resume File"
      ],
      "metadata": {
        "id": "s6Qq9ri3wibH"
      }
    },
    {
      "cell_type": "code",
      "source": [
        "from google.colab import files\n",
        "uploaded = files.upload()"
      ],
      "metadata": {
        "id": "ybXf0VY_qFGN"
      },
      "execution_count": null,
      "outputs": []
    },
    {
      "cell_type": "code",
      "source": [
        "import os\n",
        "print(os.listdir())\n"
      ],
      "metadata": {
        "id": "iBkNzBjhqHFH"
      },
      "execution_count": null,
      "outputs": []
    },
    {
      "cell_type": "markdown",
      "source": [
        "## Step 2: Inspecting the PDF"
      ],
      "metadata": {
        "id": "ga9t4zSnwwQr"
      }
    },
    {
      "cell_type": "code",
      "source": [
        "import fitz"
      ],
      "metadata": {
        "id": "KInK2jnBqI_r"
      },
      "execution_count": null,
      "outputs": []
    },
    {
      "cell_type": "code",
      "source": [
        "# Load the PDF\n",
        "doc = fitz.open(\"MurathanKocaman_Resume_Sep10_wFin.pdf\")\n",
        "\n",
        "\n",
        "# Print the number of pages\n",
        "print(f\"Total Pages: {doc.page_count}\")\n",
        "\n",
        "\n",
        "# Print metadata\n",
        "print(\"PDF Metadata:\")\n",
        "\n",
        "doc.metadata\n"
      ],
      "metadata": {
        "id": "HsqNnQz_C0Eu"
      },
      "execution_count": null,
      "outputs": []
    },
    {
      "cell_type": "markdown",
      "source": [
        "## Step 3: Extracting Text from a PDF"
      ],
      "metadata": {
        "id": "x66x_GMPzU0H"
      }
    },
    {
      "cell_type": "markdown",
      "source": [
        "### Extracting Raw Text from a Page"
      ],
      "metadata": {
        "id": "zPNqZU6JzlLy"
      }
    },
    {
      "cell_type": "code",
      "source": [
        "# Open the first page of the document\n",
        "page = doc[0]\n",
        "\n",
        "# Extract text as a plain string\n",
        "text = page.get_text(\"text\")\n",
        "\n",
        "# Print the extracted text\n",
        "print(text)"
      ],
      "metadata": {
        "id": "g2zxtTKPzWCX"
      },
      "execution_count": null,
      "outputs": []
    },
    {
      "cell_type": "markdown",
      "source": [
        "### Extracting Text with Bounding Box Positions"
      ],
      "metadata": {
        "id": "mG5qOo-hzms3"
      }
    },
    {
      "cell_type": "code",
      "source": [
        "# Extract words along with bounding box information\n",
        "words = page.get_text(\"words\")\n",
        "\n",
        "# Print first 5 extracted words with bounding boxes\n",
        "for word in words[:10]:\n",
        "    print(word)"
      ],
      "metadata": {
        "id": "r5rzMBowzqYH"
      },
      "execution_count": null,
      "outputs": []
    },
    {
      "cell_type": "markdown",
      "source": [
        "### Extracting Text Block-by-Block (Paragraph-Level)"
      ],
      "metadata": {
        "id": "A40H12Ok0nhz"
      }
    },
    {
      "cell_type": "code",
      "source": [
        "# Extract structured text as blocks\n",
        "blocks = page.get_text(\"blocks\")\n",
        "\n",
        "# Print each block\n",
        "for block in blocks:\n",
        "    print(f\"Block: {block}\")"
      ],
      "metadata": {
        "id": "zCSnVhzl0p_I"
      },
      "execution_count": null,
      "outputs": []
    },
    {
      "cell_type": "markdown",
      "source": [
        "## Step 4: Extracting Text from All Pages in a PDF"
      ],
      "metadata": {
        "id": "1eZumVwx1YjR"
      }
    },
    {
      "cell_type": "code",
      "source": [
        "# Loop through all pages and extract text\n",
        "for page_num in range(len(doc)):\n",
        "    page = doc[page_num]\n",
        "    text = page.get_text(\"text\")\n",
        "    print(f\"--- Page {page_num + 1} ---\")\n",
        "    print(text)"
      ],
      "metadata": {
        "id": "0NxDqNiP1cga"
      },
      "execution_count": null,
      "outputs": []
    },
    {
      "cell_type": "markdown",
      "source": [
        "## Step 5: Extracting Key Information from a PDF"
      ],
      "metadata": {
        "id": "GNrbGyiD0r1b"
      }
    },
    {
      "cell_type": "code",
      "source": [
        "import re\n",
        "\n",
        "# Extract raw text from the first page\n",
        "text = doc[0].get_text(\"text\")\n",
        "\n",
        "# Use regex to find a phone number in the text\n",
        "phone_match = re.search(r\"\\(?\\d{3}\\)?[-.\\s]?\\d{3}[-.\\s]?\\d{4}\", text)\n",
        "\n",
        "if phone_match:\n",
        "    phone_number = phone_match.group()\n",
        "    print(f\"Candidate Phone Number: {phone_number}\")\n",
        "else:\n",
        "    print(\"Phone number not found.\")"
      ],
      "metadata": {
        "id": "xf5raPGwzttc"
      },
      "execution_count": null,
      "outputs": []
    },
    {
      "cell_type": "code",
      "source": [
        "# Extract raw text from first page\n",
        "text = doc[0].get_text('text')\n",
        "\n",
        "# Use regex to find an email address in the text\n",
        "email_match = re.search(r'\\S+@\\S+\\.\\S+', text)\n",
        "\n",
        "if email_match:\n",
        "  email_address = email_match.group()\n",
        "  print(f'Candidate Email Address: {email_address}')\n",
        "else:\n",
        "  print('Email address not found.')\n"
      ],
      "metadata": {
        "id": "B2x-EIK5jU9A"
      },
      "execution_count": null,
      "outputs": []
    },
    {
      "cell_type": "markdown",
      "source": [
        "## Step 6: Extracting Bounding Boxes for Specific Fields"
      ],
      "metadata": {
        "id": "1vjT77AP151S"
      }
    },
    {
      "cell_type": "code",
      "source": [
        "# Extract words with their bounding boxes\n",
        "words = doc[0].get_text(\"words\")\n",
        "\n",
        "# Define the field we are looking for\n",
        "target_word = email_address\n",
        "\n",
        "# Search for the target word and retrieve its bounding box\n",
        "for word in words:\n",
        "    x0, y0, x1, y1, text, block, line, word_no = word  # Unpack correctly\n",
        "    if target_word.lower() in text.lower():  # Case-insensitive match\n",
        "        print(f\"Found '{target_word}' at: ({x0}, {y0}, {x1}, {y1})\")"
      ],
      "metadata": {
        "id": "2YS9oIox1mui"
      },
      "execution_count": null,
      "outputs": []
    },
    {
      "cell_type": "markdown",
      "source": [
        "##Step 7: Displaying The Bounding Boxes on the Doc's Image"
      ],
      "metadata": {
        "id": "CWWTqC1Pmd0P"
      }
    },
    {
      "cell_type": "code",
      "source": [
        "import cv2\n",
        "import numpy as np\n",
        "from PIL import Image\n",
        "\n",
        "# Convert PDF page to an image\n",
        "pix = doc[0].get_pixmap()\n",
        "img = np.array(Image.frombytes(\"RGB\", [pix.width, pix.height], pix.samples))\n",
        "\n",
        "# Convert image to OpenCV BGR format\n",
        "img = cv2.cvtColor(img, cv2.COLOR_RGB2BGR)\n",
        "\n",
        "# Get the actual image height\n",
        "img_height = img.shape[0]  # OpenCV uses (height, width, channels)\n",
        "\n",
        "# Extract words and their bounding boxes\n",
        "words = doc[0].get_text(\"words\")\n",
        "\n",
        "# Define the field we are looking for\n",
        "target_word = \"murathankocaman@gmail.com\"  # Replace with actual email\n",
        "\n",
        "# Flag to check if the word was found\n",
        "word_found = False\n",
        "\n",
        "# Search for the target word and retrieve its bounding box\n",
        "for word in words:\n",
        "    x0, y0, x1, y1, text, block, line, word_no = word  # Unpack correctly\n",
        "\n",
        "    if target_word in text:  # Case-sensitive match (modify if needed)\n",
        "        # Convert PyMuPDF's y-coordinates (bottom-left origin) to OpenCV's (top-left origin)\n",
        "        y0_new = y1  # Convert bottom-left to top-left\n",
        "        y1_new = y0  # Convert bottom-left to top-left\n",
        "\n",
        "        # Convert coordinates to integers\n",
        "        x0, y0_new, x1, y1_new = map(int, [x0, y0_new, x1, y1_new])\n",
        "\n",
        "        # Draw a rectangle around the detected word\n",
        "        cv2.rectangle(img, (x0, y0_new), (x1, y1_new), (0, 255, 0), 2)\n",
        "\n",
        "        print(f\"Found '{target_word}' at: ({x0}, {y0_new}, {x1}, {y1_new})\")\n",
        "        word_found = True\n",
        "\n",
        "# Ensure an image is displayed even if no word is found\n",
        "if not word_found:\n",
        "    print(f\"'{target_word}' not found in document.\")\n",
        "\n",
        "# Convert back to RGB for displaying in PIL\n",
        "img_rgb = cv2.cvtColor(img, cv2.COLOR_BGR2RGB)\n",
        "\n",
        "# Display the image using PIL (works in Jupyter/Colab)\n",
        "display(Image.fromarray(img_rgb))"
      ],
      "metadata": {
        "id": "vkIVdxcz3jcO"
      },
      "execution_count": null,
      "outputs": []
    },
    {
      "cell_type": "code",
      "source": [],
      "metadata": {
        "id": "QU0bgmSYL6za"
      },
      "execution_count": null,
      "outputs": []
    }
  ]
}